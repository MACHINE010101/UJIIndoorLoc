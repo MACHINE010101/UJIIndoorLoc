{
 "cells": [
  {
   "cell_type": "markdown",
   "id": "962bdd50",
   "metadata": {
    "_cell_guid": "e3bc4854-2787-eae1-950d-2742ad3d7db2",
    "_uuid": "d507f816cc74a88c9afefd02cf225d1a7dd6461f"
   },
   "source": [
    "# Data Analytics & Machine Learning - Miniproject\n",
    "**Author: Eduard Pascale**\n",
    "\n",
    "**Date: 1/05/2023**\n",
    "\n",
    "## Short Intro\n",
    "\n",
    "In the miniproject we have to tackle down a problem regarding [DAL module](https://fhict.instructure.com/courses/13020/assignments/218989?module_item_id=915417), as agreed with the teacher I had to choose between two datasets to dive into and get the most out of it. I choose to work with UJIIndoorLoc dataset because it's a dataset which is relevant for me, in my industry project I have to work with a similar problem therefore I hope this dataset will give me the training that I need.\n",
    "\n",
    "In this report, I will explain how to organize and analyze data in a way that helps make better decisions. I'll go over the steps to prepare data for analysis, explore the data to find patterns, and create a data model that can predict future outcomes. To show how this works, I'll use a set of data provided by my teacher. I'll also explain each step of the process in detail, so I can learn how to improve my data modeling skills.\n",
    "\n",
    "## UJIIndoorLoc\n",
    "\n",
    "The [UJIIndoorLoc Data Set](https://archive.ics.uci.edu/ml/datasets/UJIIndoorLoc) is a collection of WiFi signals data collected from access points placed in different indoor locations, such as offices, classrooms, and corridors. The data has been preprocessed to extract a set of features related to signal strength, position, and orientation, and it includes measurements of signal strengths from 520 access points. The goal of the dataset is to predict the indoor location of a person based on the received WiFi signals. The dataset has 19,937 instances and 529 features, making it a useful resource for indoor localization and navigation tasks, including classification, clustering, and regression.\n",
    "\n",
    "source: https://archive.ics.uci.edu/ml/datasets/UJIIndoorLoc\n",
    "\n",
    "In the machine learning repository, this dataset provides relevant papers for further study. As my first initiative, I'm going to look at a conference paper titled [\"UJIIndoorLoc: A new multi-building and multi-ﬂoor database for WLAN ﬁngerprint-based indoor localization problems\"](https://www.researchgate.net/publication/283894296_UJIIndoorLoc_A_new_multi-building_and_multi-floor_database_for_WLAN_fingerprint-based_indoor_localization_problems)\n",
    "\n",
    "## UJIIndoorLoc: A new multi-building and multi-floor database for WLAN fingerprint-based indoor localization problems\n",
    "\n",
    "### Introduction\n",
    "\n",
    "One of common thing that many application wants to make use of is automatic user localization. This works by\n",
    "using an electronic device, usually a mobile phone to compute the user latitude, longitude and altitude.\n",
    "Many problems occur in indoor settings, we cannot make use of GPS sensor to locate a user because GPS signal gets lost in indoor environments.\n",
    "\n",
    "Many people have tried to make use of WLANs, which is especially a good approach because it doesn't require any extra equipment and can be found on most smartphones plus WLANs are now ubiquitous. WLAN Fingerprint-based positioning systems are based on the [Received Signal Strength Indicator (RSSI)](https://en.wikipedia.org/wiki/Received_signal_strength_indicator) value, a radio map of the area where the users should be detected is constructed and later the user obtains the signal strength of all visible access points of the WLAN.\n",
    "\n",
    "One important draw-back in this field is the lack of a common database for comparison purposes, **the UJIIndoorLoc database is presented to overcome this gap.**\n",
    "\n",
    "UJIIndoorLoc database contains characteristics such as:\n",
    "* Covers a surface of 108703m 2 including 3 buildings with 4 or 5 floors \n",
    "* The number of different places is 933\n",
    "* 21049 sampled points have been captured: 19938 for training/learning and 1111 for validation/testing\n",
    "* Validation (or testing) samples were taken 4 months after Training ones.\n",
    "* The number of different wireless access points (WAPs) appearing in the database is 520\n",
    "* Data were collected by more than 20 users using 25 different models of mobile devices \n",
    "\n",
    "This work is based on an infrastructure-less approache, mainly taking advantage of the powerful mobile phone \n",
    "sensors.\n",
    "\n",
    "### UJIIndoorLoc DATABASE DESCRIPTION\n",
    "\n",
    "The whole database contains 21049 records, each record is directly related to 529 numeric elements:\n",
    "\n",
    "* 001-520 RSSI levels\n",
    "* 521-523 Real world coordinates of the sample points\n",
    "* 524 BuildingID\n",
    "* 525 SpaceID\n",
    "* 526 Relative position with respect to SpaceID\n",
    "* 527 UserID\n",
    "* 528 PhoneID\n",
    "* 529 Timestamp\n",
    "\n",
    "A total number of 520 WAPs appear in the database andthe 520-element vector from each record contains the raw intensity levels of the detected WAPs from a single WiFiscan."
   ]
  },
  {
   "cell_type": "code",
   "execution_count": null,
   "id": "15de7143",
   "metadata": {},
   "outputs": [],
   "source": []
  }
 ],
 "metadata": {
  "kernelspec": {
   "display_name": "Python 3 (ipykernel)",
   "language": "python",
   "name": "python3"
  },
  "language_info": {
   "codemirror_mode": {
    "name": "ipython",
    "version": 3
   },
   "file_extension": ".py",
   "mimetype": "text/x-python",
   "name": "python",
   "nbconvert_exporter": "python",
   "pygments_lexer": "ipython3",
   "version": "3.10.6"
  }
 },
 "nbformat": 4,
 "nbformat_minor": 5
}
