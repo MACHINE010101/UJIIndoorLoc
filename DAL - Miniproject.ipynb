{
 "cells": [
  {
   "cell_type": "markdown",
   "id": "962bdd50",
   "metadata": {
    "_cell_guid": "e3bc4854-2787-eae1-950d-2742ad3d7db2",
    "_uuid": "d507f816cc74a88c9afefd02cf225d1a7dd6461f"
   },
   "source": [
    "# Miniproject\n",
    "**Author: Eduard Pascale**\n",
    "\n",
    "**Date: 1/05/2023**\n",
    "\n",
    "## Short Intro\n",
    "\n",
    "In the miniproject we have to tackle down a problem regarding [DAL module](https://fhict.instructure.com/courses/13020/assignments/218989?module_item_id=915417), as agreed with the teacher I had to choose between two datasets to dive into and get the most out of it. I choose to work with UJIIndoorLoc dataset because it's a dataset which is relevant for me, in my industry project I have to work with a similar problem therefore I hope this dataset will give me the training that I need.\n",
    "\n",
    "In this report, I will explain how to organize and analyze data in a way that helps make better decisions. I'll go over the steps to prepare data for analysis, explore the data to find patterns, and create a data model that can predict future outcomes. To show how this works, I'll use a set of data provided by my teacher. I'll also explain each step of the process in detail, so I can learn how to improve my data modeling skills.\n",
    "\n",
    "## UJIIndoorLoc\n",
    "\n",
    "The [UJIIndoorLoc Data Set](https://archive.ics.uci.edu/ml/datasets/UJIIndoorLoc) is a collection of WiFi signals data collected from access points placed in different indoor locations, such as offices, classrooms, and corridors. The data has been preprocessed to extract a set of features related to signal strength, position, and orientation, and it includes measurements of signal strengths from 520 access points. The goal of the dataset is to predict the indoor location of a person based on the received WiFi signals. The dataset has 19,937 instances and 529 features, making it a useful resource for indoor localization and navigation tasks, including classification, clustering, and regression.\n",
    "\n",
    "source: https://archive.ics.uci.edu/ml/datasets/UJIIndoorLoc\n",
    "\n",
    "In the machine learning repository, this dataset provides relevant papers for further study. As my first initiative, I'm going to look at a conference paper titled [\"UJIIndoorLoc: A new multi-building and multi-ﬂoor database for WLAN ﬁngerprint-based indoor localization problems\"](https://www.researchgate.net/publication/283894296_UJIIndoorLoc_A_new_multi-building_and_multi-floor_database_for_WLAN_fingerprint-based_indoor_localization_problems)\n",
    "\n",
    "## UJIIndoorLoc: A new multi-building and multi-floor database for WLAN fingerprint-based indoor localization problems"
   ]
  },
  {
   "cell_type": "code",
   "execution_count": null,
   "id": "fdf71358",
   "metadata": {},
   "outputs": [],
   "source": []
  }
 ],
 "metadata": {
  "kernelspec": {
   "display_name": "Python 3 (ipykernel)",
   "language": "python",
   "name": "python3"
  },
  "language_info": {
   "codemirror_mode": {
    "name": "ipython",
    "version": 3
   },
   "file_extension": ".py",
   "mimetype": "text/x-python",
   "name": "python",
   "nbconvert_exporter": "python",
   "pygments_lexer": "ipython3",
   "version": "3.10.6"
  }
 },
 "nbformat": 4,
 "nbformat_minor": 5
}
